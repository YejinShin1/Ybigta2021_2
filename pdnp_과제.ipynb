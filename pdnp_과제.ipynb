{
  "nbformat": 4,
  "nbformat_minor": 0,
  "metadata": {
    "colab": {
      "name": "pdnp_과제.ipynb",
      "provenance": [],
      "collapsed_sections": []
    },
    "kernelspec": {
      "display_name": "Python 3",
      "language": "python",
      "name": "python3"
    },
    "language_info": {
      "codemirror_mode": {
        "name": "ipython",
        "version": 3
      },
      "file_extension": ".py",
      "mimetype": "text/x-python",
      "name": "python",
      "nbconvert_exporter": "python",
      "pygments_lexer": "ipython3",
      "version": "3.8.5"
    },
    "varInspector": {
      "cols": {
        "lenName": 16,
        "lenType": 16,
        "lenVar": 40
      },
      "kernels_config": {
        "python": {
          "delete_cmd_postfix": "",
          "delete_cmd_prefix": "del ",
          "library": "var_list.py",
          "varRefreshCmd": "print(var_dic_list())"
        },
        "r": {
          "delete_cmd_postfix": ") ",
          "delete_cmd_prefix": "rm(",
          "library": "var_list.r",
          "varRefreshCmd": "cat(var_dic_list()) "
        }
      },
      "types_to_exclude": [
        "module",
        "function",
        "builtin_function_or_method",
        "instance",
        "_Feature"
      ],
      "window_display": false
    }
  },
  "cells": [
    {
      "cell_type": "markdown",
      "metadata": {
        "id": "J_kkHwAf4e0-"
      },
      "source": [
        "## 와인 품질 데이터\n",
        "- 와인 성분 변수들을 이용하여 품질을 예측하는 유명한 데이터 <br> <br>\n"
      ]
    },
    {
      "cell_type": "code",
      "metadata": {
        "id": "aylbmWoN4e1H"
      },
      "source": [
        "import numpy as np\n",
        "import pandas as pd\n",
        "pd.set_option('display.max_columns', None)\n",
        "pd.set_option('display.max_rows', None)\n",
        "\n",
        "import warnings\n",
        "warnings.filterwarnings(action='ignore')"
      ],
      "execution_count": 1,
      "outputs": []
    },
    {
      "cell_type": "code",
      "metadata": {
        "colab": {
          "resources": {
            "http://localhost:8080/nbextensions/google.colab/files.js": {
              "data": "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",
              "ok": true,
              "headers": [
                [
                  "content-type",
                  "application/javascript"
                ]
              ],
              "status": 200,
              "status_text": ""
            }
          },
          "base_uri": "https://localhost:8080/",
          "height": 76
        },
        "id": "zxayEMDeLOKl",
        "outputId": "5b947318-8f64-4663-89c4-3f5fbca331a8"
      },
      "source": [
        "from google.colab import files\n",
        "myfile = files.upload()"
      ],
      "execution_count": 5,
      "outputs": [
        {
          "output_type": "display_data",
          "data": {
            "text/html": [
              "\n",
              "     <input type=\"file\" id=\"files-6fd1d5b0-02eb-4b52-851e-a12ce1575ba8\" name=\"files[]\" multiple disabled\n",
              "        style=\"border:none\" />\n",
              "     <output id=\"result-6fd1d5b0-02eb-4b52-851e-a12ce1575ba8\">\n",
              "      Upload widget is only available when the cell has been executed in the\n",
              "      current browser session. Please rerun this cell to enable.\n",
              "      </output>\n",
              "      <script src=\"/nbextensions/google.colab/files.js\"></script> "
            ],
            "text/plain": [
              "<IPython.core.display.HTML object>"
            ]
          },
          "metadata": {
            "tags": []
          }
        },
        {
          "output_type": "stream",
          "text": [
            "Saving wine.csv to wine.csv\n"
          ],
          "name": "stdout"
        }
      ]
    },
    {
      "cell_type": "markdown",
      "metadata": {
        "id": "2FUlkDfE4e1M"
      },
      "source": [
        "#### 데이터 불러오기 및 앞부분 확인"
      ]
    },
    {
      "cell_type": "code",
      "metadata": {
        "id": "TiRfl9sf4e1O",
        "colab": {
          "base_uri": "https://localhost:8080/",
          "height": 204
        },
        "outputId": "9a3f2b57-7a47-4850-d982-5e80397c492a"
      },
      "source": [
        "data = pd.read_csv('wine.csv')\n",
        "data.head()"
      ],
      "execution_count": 6,
      "outputs": [
        {
          "output_type": "execute_result",
          "data": {
            "text/html": [
              "<div>\n",
              "<style scoped>\n",
              "    .dataframe tbody tr th:only-of-type {\n",
              "        vertical-align: middle;\n",
              "    }\n",
              "\n",
              "    .dataframe tbody tr th {\n",
              "        vertical-align: top;\n",
              "    }\n",
              "\n",
              "    .dataframe thead th {\n",
              "        text-align: right;\n",
              "    }\n",
              "</style>\n",
              "<table border=\"1\" class=\"dataframe\">\n",
              "  <thead>\n",
              "    <tr style=\"text-align: right;\">\n",
              "      <th></th>\n",
              "      <th>index</th>\n",
              "      <th>quality</th>\n",
              "      <th>fixed acidity</th>\n",
              "      <th>volatile acidity</th>\n",
              "      <th>citric acid</th>\n",
              "      <th>residual sugar</th>\n",
              "      <th>chlorides</th>\n",
              "      <th>free sulfur dioxide</th>\n",
              "      <th>total sulfur dioxide</th>\n",
              "      <th>density</th>\n",
              "      <th>pH</th>\n",
              "      <th>sulphates</th>\n",
              "      <th>alcohol</th>\n",
              "      <th>type</th>\n",
              "    </tr>\n",
              "  </thead>\n",
              "  <tbody>\n",
              "    <tr>\n",
              "      <th>0</th>\n",
              "      <td>0</td>\n",
              "      <td>5</td>\n",
              "      <td>5.6</td>\n",
              "      <td>0.695</td>\n",
              "      <td>0.06</td>\n",
              "      <td>6.8</td>\n",
              "      <td>0.042</td>\n",
              "      <td>9.0</td>\n",
              "      <td>84.0</td>\n",
              "      <td>0.99432</td>\n",
              "      <td>3.44</td>\n",
              "      <td>0.44</td>\n",
              "      <td>10.2</td>\n",
              "      <td>white</td>\n",
              "    </tr>\n",
              "    <tr>\n",
              "      <th>1</th>\n",
              "      <td>1</td>\n",
              "      <td>5</td>\n",
              "      <td>8.8</td>\n",
              "      <td>0.610</td>\n",
              "      <td>0.14</td>\n",
              "      <td>2.4</td>\n",
              "      <td>0.067</td>\n",
              "      <td>10.0</td>\n",
              "      <td>42.0</td>\n",
              "      <td>0.99690</td>\n",
              "      <td>3.19</td>\n",
              "      <td>0.59</td>\n",
              "      <td>9.5</td>\n",
              "      <td>red</td>\n",
              "    </tr>\n",
              "    <tr>\n",
              "      <th>2</th>\n",
              "      <td>2</td>\n",
              "      <td>5</td>\n",
              "      <td>7.9</td>\n",
              "      <td>0.210</td>\n",
              "      <td>0.39</td>\n",
              "      <td>2.0</td>\n",
              "      <td>0.057</td>\n",
              "      <td>21.0</td>\n",
              "      <td>138.0</td>\n",
              "      <td>0.99176</td>\n",
              "      <td>3.05</td>\n",
              "      <td>0.52</td>\n",
              "      <td>10.9</td>\n",
              "      <td>white</td>\n",
              "    </tr>\n",
              "    <tr>\n",
              "      <th>3</th>\n",
              "      <td>3</td>\n",
              "      <td>6</td>\n",
              "      <td>7.0</td>\n",
              "      <td>0.210</td>\n",
              "      <td>0.31</td>\n",
              "      <td>6.0</td>\n",
              "      <td>0.046</td>\n",
              "      <td>29.0</td>\n",
              "      <td>108.0</td>\n",
              "      <td>0.99390</td>\n",
              "      <td>3.26</td>\n",
              "      <td>0.50</td>\n",
              "      <td>10.8</td>\n",
              "      <td>white</td>\n",
              "    </tr>\n",
              "    <tr>\n",
              "      <th>4</th>\n",
              "      <td>4</td>\n",
              "      <td>6</td>\n",
              "      <td>7.8</td>\n",
              "      <td>0.400</td>\n",
              "      <td>0.26</td>\n",
              "      <td>9.5</td>\n",
              "      <td>0.059</td>\n",
              "      <td>32.0</td>\n",
              "      <td>178.0</td>\n",
              "      <td>0.99550</td>\n",
              "      <td>3.04</td>\n",
              "      <td>0.43</td>\n",
              "      <td>10.9</td>\n",
              "      <td>white</td>\n",
              "    </tr>\n",
              "  </tbody>\n",
              "</table>\n",
              "</div>"
            ],
            "text/plain": [
              "   index  quality  fixed acidity  volatile acidity  citric acid  \\\n",
              "0      0        5            5.6             0.695         0.06   \n",
              "1      1        5            8.8             0.610         0.14   \n",
              "2      2        5            7.9             0.210         0.39   \n",
              "3      3        6            7.0             0.210         0.31   \n",
              "4      4        6            7.8             0.400         0.26   \n",
              "\n",
              "   residual sugar  chlorides  free sulfur dioxide  total sulfur dioxide  \\\n",
              "0             6.8      0.042                  9.0                  84.0   \n",
              "1             2.4      0.067                 10.0                  42.0   \n",
              "2             2.0      0.057                 21.0                 138.0   \n",
              "3             6.0      0.046                 29.0                 108.0   \n",
              "4             9.5      0.059                 32.0                 178.0   \n",
              "\n",
              "   density    pH  sulphates  alcohol   type  \n",
              "0  0.99432  3.44       0.44     10.2  white  \n",
              "1  0.99690  3.19       0.59      9.5    red  \n",
              "2  0.99176  3.05       0.52     10.9  white  \n",
              "3  0.99390  3.26       0.50     10.8  white  \n",
              "4  0.99550  3.04       0.43     10.9  white  "
            ]
          },
          "metadata": {
            "tags": []
          },
          "execution_count": 6
        }
      ]
    },
    {
      "cell_type": "markdown",
      "metadata": {
        "id": "LWcBdRDX4e1Q"
      },
      "source": [
        "#### 데이터 shape 확인"
      ]
    },
    {
      "cell_type": "code",
      "metadata": {
        "id": "O_V_A7724e1S",
        "colab": {
          "base_uri": "https://localhost:8080/"
        },
        "outputId": "e6030f80-cfc3-4ca7-dc4c-63e61f545e26"
      },
      "source": [
        "data.shape"
      ],
      "execution_count": 7,
      "outputs": [
        {
          "output_type": "execute_result",
          "data": {
            "text/plain": [
              "(5497, 14)"
            ]
          },
          "metadata": {
            "tags": []
          },
          "execution_count": 7
        }
      ]
    },
    {
      "cell_type": "markdown",
      "metadata": {
        "id": "mj0eMyx-4e1T"
      },
      "source": [
        "#### 컬럼명 확인"
      ]
    },
    {
      "cell_type": "code",
      "metadata": {
        "id": "GYpLp4M94e1V",
        "colab": {
          "base_uri": "https://localhost:8080/"
        },
        "outputId": "2758aae1-fbe4-4bc2-9790-c2931845edcf"
      },
      "source": [
        "data.columns"
      ],
      "execution_count": 8,
      "outputs": [
        {
          "output_type": "execute_result",
          "data": {
            "text/plain": [
              "Index(['index', 'quality', 'fixed acidity', 'volatile acidity', 'citric acid',\n",
              "       'residual sugar', 'chlorides', 'free sulfur dioxide',\n",
              "       'total sulfur dioxide', 'density', 'pH', 'sulphates', 'alcohol',\n",
              "       'type'],\n",
              "      dtype='object')"
            ]
          },
          "metadata": {
            "tags": []
          },
          "execution_count": 8
        }
      ]
    },
    {
      "cell_type": "markdown",
      "metadata": {
        "id": "GbQlnyg24e1W"
      },
      "source": [
        "#### NaN, 데이터 타입, 개수 확인"
      ]
    },
    {
      "cell_type": "code",
      "metadata": {
        "id": "g8PKDcaz4e1X",
        "colab": {
          "base_uri": "https://localhost:8080/"
        },
        "outputId": "284b9c9c-d6b0-4508-93b1-33c9ffd0af45"
      },
      "source": [
        "data.info()"
      ],
      "execution_count": 10,
      "outputs": [
        {
          "output_type": "stream",
          "text": [
            "<class 'pandas.core.frame.DataFrame'>\n",
            "RangeIndex: 5497 entries, 0 to 5496\n",
            "Data columns (total 14 columns):\n",
            " #   Column                Non-Null Count  Dtype  \n",
            "---  ------                --------------  -----  \n",
            " 0   index                 5497 non-null   int64  \n",
            " 1   quality               5497 non-null   int64  \n",
            " 2   fixed acidity         5497 non-null   float64\n",
            " 3   volatile acidity      5497 non-null   float64\n",
            " 4   citric acid           5497 non-null   float64\n",
            " 5   residual sugar        5497 non-null   float64\n",
            " 6   chlorides             5497 non-null   float64\n",
            " 7   free sulfur dioxide   5497 non-null   float64\n",
            " 8   total sulfur dioxide  5497 non-null   float64\n",
            " 9   density               5497 non-null   float64\n",
            " 10  pH                    5497 non-null   float64\n",
            " 11  sulphates             5497 non-null   float64\n",
            " 12  alcohol               5497 non-null   float64\n",
            " 13  type                  5497 non-null   object \n",
            "dtypes: float64(11), int64(2), object(1)\n",
            "memory usage: 601.4+ KB\n"
          ],
          "name": "stdout"
        }
      ]
    },
    {
      "cell_type": "markdown",
      "metadata": {
        "id": "g9ygCAgD4e1Z"
      },
      "source": [
        "#### 통계값 확인"
      ]
    },
    {
      "cell_type": "code",
      "metadata": {
        "id": "esq2d2bT4e1a",
        "colab": {
          "base_uri": "https://localhost:8080/",
          "height": 314
        },
        "outputId": "a58b8984-0338-4d25-ea60-0ae29881f041"
      },
      "source": [
        "data.describe()"
      ],
      "execution_count": 11,
      "outputs": [
        {
          "output_type": "execute_result",
          "data": {
            "text/html": [
              "<div>\n",
              "<style scoped>\n",
              "    .dataframe tbody tr th:only-of-type {\n",
              "        vertical-align: middle;\n",
              "    }\n",
              "\n",
              "    .dataframe tbody tr th {\n",
              "        vertical-align: top;\n",
              "    }\n",
              "\n",
              "    .dataframe thead th {\n",
              "        text-align: right;\n",
              "    }\n",
              "</style>\n",
              "<table border=\"1\" class=\"dataframe\">\n",
              "  <thead>\n",
              "    <tr style=\"text-align: right;\">\n",
              "      <th></th>\n",
              "      <th>index</th>\n",
              "      <th>quality</th>\n",
              "      <th>fixed acidity</th>\n",
              "      <th>volatile acidity</th>\n",
              "      <th>citric acid</th>\n",
              "      <th>residual sugar</th>\n",
              "      <th>chlorides</th>\n",
              "      <th>free sulfur dioxide</th>\n",
              "      <th>total sulfur dioxide</th>\n",
              "      <th>density</th>\n",
              "      <th>pH</th>\n",
              "      <th>sulphates</th>\n",
              "      <th>alcohol</th>\n",
              "    </tr>\n",
              "  </thead>\n",
              "  <tbody>\n",
              "    <tr>\n",
              "      <th>count</th>\n",
              "      <td>5497.000000</td>\n",
              "      <td>5497.000000</td>\n",
              "      <td>5497.000000</td>\n",
              "      <td>5497.000000</td>\n",
              "      <td>5497.000000</td>\n",
              "      <td>5497.000000</td>\n",
              "      <td>5497.000000</td>\n",
              "      <td>5497.000000</td>\n",
              "      <td>5497.000000</td>\n",
              "      <td>5497.000000</td>\n",
              "      <td>5497.000000</td>\n",
              "      <td>5497.000000</td>\n",
              "      <td>5497.000000</td>\n",
              "    </tr>\n",
              "    <tr>\n",
              "      <th>mean</th>\n",
              "      <td>2748.000000</td>\n",
              "      <td>5.818992</td>\n",
              "      <td>7.210115</td>\n",
              "      <td>0.338163</td>\n",
              "      <td>0.318543</td>\n",
              "      <td>5.438075</td>\n",
              "      <td>0.055808</td>\n",
              "      <td>30.417682</td>\n",
              "      <td>115.566491</td>\n",
              "      <td>0.994673</td>\n",
              "      <td>3.219502</td>\n",
              "      <td>0.530524</td>\n",
              "      <td>10.504918</td>\n",
              "    </tr>\n",
              "    <tr>\n",
              "      <th>std</th>\n",
              "      <td>1586.991546</td>\n",
              "      <td>0.870311</td>\n",
              "      <td>1.287579</td>\n",
              "      <td>0.163224</td>\n",
              "      <td>0.145104</td>\n",
              "      <td>4.756676</td>\n",
              "      <td>0.034653</td>\n",
              "      <td>17.673881</td>\n",
              "      <td>56.288223</td>\n",
              "      <td>0.003014</td>\n",
              "      <td>0.160713</td>\n",
              "      <td>0.149396</td>\n",
              "      <td>1.194524</td>\n",
              "    </tr>\n",
              "    <tr>\n",
              "      <th>min</th>\n",
              "      <td>0.000000</td>\n",
              "      <td>3.000000</td>\n",
              "      <td>3.800000</td>\n",
              "      <td>0.080000</td>\n",
              "      <td>0.000000</td>\n",
              "      <td>0.600000</td>\n",
              "      <td>0.009000</td>\n",
              "      <td>1.000000</td>\n",
              "      <td>6.000000</td>\n",
              "      <td>0.987110</td>\n",
              "      <td>2.740000</td>\n",
              "      <td>0.220000</td>\n",
              "      <td>8.000000</td>\n",
              "    </tr>\n",
              "    <tr>\n",
              "      <th>25%</th>\n",
              "      <td>1374.000000</td>\n",
              "      <td>5.000000</td>\n",
              "      <td>6.400000</td>\n",
              "      <td>0.230000</td>\n",
              "      <td>0.250000</td>\n",
              "      <td>1.800000</td>\n",
              "      <td>0.038000</td>\n",
              "      <td>17.000000</td>\n",
              "      <td>78.000000</td>\n",
              "      <td>0.992300</td>\n",
              "      <td>3.110000</td>\n",
              "      <td>0.430000</td>\n",
              "      <td>9.500000</td>\n",
              "    </tr>\n",
              "    <tr>\n",
              "      <th>50%</th>\n",
              "      <td>2748.000000</td>\n",
              "      <td>6.000000</td>\n",
              "      <td>7.000000</td>\n",
              "      <td>0.290000</td>\n",
              "      <td>0.310000</td>\n",
              "      <td>3.000000</td>\n",
              "      <td>0.047000</td>\n",
              "      <td>29.000000</td>\n",
              "      <td>118.000000</td>\n",
              "      <td>0.994800</td>\n",
              "      <td>3.210000</td>\n",
              "      <td>0.510000</td>\n",
              "      <td>10.300000</td>\n",
              "    </tr>\n",
              "    <tr>\n",
              "      <th>75%</th>\n",
              "      <td>4122.000000</td>\n",
              "      <td>6.000000</td>\n",
              "      <td>7.700000</td>\n",
              "      <td>0.400000</td>\n",
              "      <td>0.390000</td>\n",
              "      <td>8.100000</td>\n",
              "      <td>0.064000</td>\n",
              "      <td>41.000000</td>\n",
              "      <td>155.000000</td>\n",
              "      <td>0.996930</td>\n",
              "      <td>3.320000</td>\n",
              "      <td>0.600000</td>\n",
              "      <td>11.300000</td>\n",
              "    </tr>\n",
              "    <tr>\n",
              "      <th>max</th>\n",
              "      <td>5496.000000</td>\n",
              "      <td>9.000000</td>\n",
              "      <td>15.900000</td>\n",
              "      <td>1.580000</td>\n",
              "      <td>1.660000</td>\n",
              "      <td>65.800000</td>\n",
              "      <td>0.610000</td>\n",
              "      <td>289.000000</td>\n",
              "      <td>440.000000</td>\n",
              "      <td>1.038980</td>\n",
              "      <td>4.010000</td>\n",
              "      <td>2.000000</td>\n",
              "      <td>14.900000</td>\n",
              "    </tr>\n",
              "  </tbody>\n",
              "</table>\n",
              "</div>"
            ],
            "text/plain": [
              "             index      quality  fixed acidity  volatile acidity  citric acid  \\\n",
              "count  5497.000000  5497.000000    5497.000000       5497.000000  5497.000000   \n",
              "mean   2748.000000     5.818992       7.210115          0.338163     0.318543   \n",
              "std    1586.991546     0.870311       1.287579          0.163224     0.145104   \n",
              "min       0.000000     3.000000       3.800000          0.080000     0.000000   \n",
              "25%    1374.000000     5.000000       6.400000          0.230000     0.250000   \n",
              "50%    2748.000000     6.000000       7.000000          0.290000     0.310000   \n",
              "75%    4122.000000     6.000000       7.700000          0.400000     0.390000   \n",
              "max    5496.000000     9.000000      15.900000          1.580000     1.660000   \n",
              "\n",
              "       residual sugar    chlorides  free sulfur dioxide  total sulfur dioxide  \\\n",
              "count     5497.000000  5497.000000          5497.000000           5497.000000   \n",
              "mean         5.438075     0.055808            30.417682            115.566491   \n",
              "std          4.756676     0.034653            17.673881             56.288223   \n",
              "min          0.600000     0.009000             1.000000              6.000000   \n",
              "25%          1.800000     0.038000            17.000000             78.000000   \n",
              "50%          3.000000     0.047000            29.000000            118.000000   \n",
              "75%          8.100000     0.064000            41.000000            155.000000   \n",
              "max         65.800000     0.610000           289.000000            440.000000   \n",
              "\n",
              "           density           pH    sulphates      alcohol  \n",
              "count  5497.000000  5497.000000  5497.000000  5497.000000  \n",
              "mean      0.994673     3.219502     0.530524    10.504918  \n",
              "std       0.003014     0.160713     0.149396     1.194524  \n",
              "min       0.987110     2.740000     0.220000     8.000000  \n",
              "25%       0.992300     3.110000     0.430000     9.500000  \n",
              "50%       0.994800     3.210000     0.510000    10.300000  \n",
              "75%       0.996930     3.320000     0.600000    11.300000  \n",
              "max       1.038980     4.010000     2.000000    14.900000  "
            ]
          },
          "metadata": {
            "tags": []
          },
          "execution_count": 11
        }
      ]
    },
    {
      "cell_type": "markdown",
      "metadata": {
        "id": "nzcQdCsW4e1b"
      },
      "source": [
        "#### quality의 unique 확인"
      ]
    },
    {
      "cell_type": "code",
      "metadata": {
        "id": "JYYXOdB04e1c",
        "scrolled": true,
        "colab": {
          "base_uri": "https://localhost:8080/"
        },
        "outputId": "b47796f6-8b03-40bf-df54-5b10fe7c1ce0"
      },
      "source": [
        "data.quality.unique()"
      ],
      "execution_count": 12,
      "outputs": [
        {
          "output_type": "execute_result",
          "data": {
            "text/plain": [
              "array([5, 6, 7, 8, 4, 3, 9])"
            ]
          },
          "metadata": {
            "tags": []
          },
          "execution_count": 12
        }
      ]
    },
    {
      "cell_type": "markdown",
      "metadata": {
        "id": "RvZkEjv24e1e"
      },
      "source": [
        "#### quality별로 개수 확인"
      ]
    },
    {
      "cell_type": "code",
      "metadata": {
        "id": "F5F7I1rC4e1e",
        "colab": {
          "base_uri": "https://localhost:8080/"
        },
        "outputId": "c1d4aef7-88e6-437d-a15b-95c10949b252"
      },
      "source": [
        "data.quality.value_counts()"
      ],
      "execution_count": 13,
      "outputs": [
        {
          "output_type": "execute_result",
          "data": {
            "text/plain": [
              "6    2416\n",
              "5    1788\n",
              "7     924\n",
              "4     186\n",
              "8     152\n",
              "3      26\n",
              "9       5\n",
              "Name: quality, dtype: int64"
            ]
          },
          "metadata": {
            "tags": []
          },
          "execution_count": 13
        }
      ]
    },
    {
      "cell_type": "markdown",
      "metadata": {
        "id": "3WYBcpZM4e1g"
      },
      "source": [
        "#### 중요하다고 생각되는 부분만 추출"
      ]
    },
    {
      "cell_type": "code",
      "metadata": {
        "id": "8mKgcEI74e1h",
        "colab": {
          "base_uri": "https://localhost:8080/",
          "height": 204
        },
        "outputId": "9bea067d-e69a-4616-fb04-8e3bba51bba9"
      },
      "source": [
        "imp = data.loc[:,['quality', 'residual sugar', 'pH', 'alcohol', 'type']]\n",
        "imp.head()"
      ],
      "execution_count": 15,
      "outputs": [
        {
          "output_type": "execute_result",
          "data": {
            "text/html": [
              "<div>\n",
              "<style scoped>\n",
              "    .dataframe tbody tr th:only-of-type {\n",
              "        vertical-align: middle;\n",
              "    }\n",
              "\n",
              "    .dataframe tbody tr th {\n",
              "        vertical-align: top;\n",
              "    }\n",
              "\n",
              "    .dataframe thead th {\n",
              "        text-align: right;\n",
              "    }\n",
              "</style>\n",
              "<table border=\"1\" class=\"dataframe\">\n",
              "  <thead>\n",
              "    <tr style=\"text-align: right;\">\n",
              "      <th></th>\n",
              "      <th>quality</th>\n",
              "      <th>residual sugar</th>\n",
              "      <th>pH</th>\n",
              "      <th>alcohol</th>\n",
              "      <th>type</th>\n",
              "    </tr>\n",
              "  </thead>\n",
              "  <tbody>\n",
              "    <tr>\n",
              "      <th>0</th>\n",
              "      <td>5</td>\n",
              "      <td>6.8</td>\n",
              "      <td>3.44</td>\n",
              "      <td>10.2</td>\n",
              "      <td>white</td>\n",
              "    </tr>\n",
              "    <tr>\n",
              "      <th>1</th>\n",
              "      <td>5</td>\n",
              "      <td>2.4</td>\n",
              "      <td>3.19</td>\n",
              "      <td>9.5</td>\n",
              "      <td>red</td>\n",
              "    </tr>\n",
              "    <tr>\n",
              "      <th>2</th>\n",
              "      <td>5</td>\n",
              "      <td>2.0</td>\n",
              "      <td>3.05</td>\n",
              "      <td>10.9</td>\n",
              "      <td>white</td>\n",
              "    </tr>\n",
              "    <tr>\n",
              "      <th>3</th>\n",
              "      <td>6</td>\n",
              "      <td>6.0</td>\n",
              "      <td>3.26</td>\n",
              "      <td>10.8</td>\n",
              "      <td>white</td>\n",
              "    </tr>\n",
              "    <tr>\n",
              "      <th>4</th>\n",
              "      <td>6</td>\n",
              "      <td>9.5</td>\n",
              "      <td>3.04</td>\n",
              "      <td>10.9</td>\n",
              "      <td>white</td>\n",
              "    </tr>\n",
              "  </tbody>\n",
              "</table>\n",
              "</div>"
            ],
            "text/plain": [
              "   quality  residual sugar    pH  alcohol   type\n",
              "0        5             6.8  3.44     10.2  white\n",
              "1        5             2.4  3.19      9.5    red\n",
              "2        5             2.0  3.05     10.9  white\n",
              "3        6             6.0  3.26     10.8  white\n",
              "4        6             9.5  3.04     10.9  white"
            ]
          },
          "metadata": {
            "tags": []
          },
          "execution_count": 15
        }
      ]
    },
    {
      "cell_type": "markdown",
      "metadata": {
        "id": "mBNCkFUG4e1i"
      },
      "source": [
        "#### groupby를 통해 quality로 묶고 통계값(min,mean,max) 확인"
      ]
    },
    {
      "cell_type": "code",
      "metadata": {
        "id": "GsqC139n4e1j",
        "colab": {
          "base_uri": "https://localhost:8080/",
          "height": 328
        },
        "outputId": "33ac1404-512c-4b49-e4b3-78ad142cae2b"
      },
      "source": [
        "imp.groupby(\"quality\").agg(([\"min\",\"mean\",\"max\"]))"
      ],
      "execution_count": 16,
      "outputs": [
        {
          "output_type": "execute_result",
          "data": {
            "text/html": [
              "<div>\n",
              "<style scoped>\n",
              "    .dataframe tbody tr th:only-of-type {\n",
              "        vertical-align: middle;\n",
              "    }\n",
              "\n",
              "    .dataframe tbody tr th {\n",
              "        vertical-align: top;\n",
              "    }\n",
              "\n",
              "    .dataframe thead tr th {\n",
              "        text-align: left;\n",
              "    }\n",
              "\n",
              "    .dataframe thead tr:last-of-type th {\n",
              "        text-align: right;\n",
              "    }\n",
              "</style>\n",
              "<table border=\"1\" class=\"dataframe\">\n",
              "  <thead>\n",
              "    <tr>\n",
              "      <th></th>\n",
              "      <th colspan=\"3\" halign=\"left\">residual sugar</th>\n",
              "      <th colspan=\"3\" halign=\"left\">pH</th>\n",
              "      <th colspan=\"3\" halign=\"left\">alcohol</th>\n",
              "    </tr>\n",
              "    <tr>\n",
              "      <th></th>\n",
              "      <th>min</th>\n",
              "      <th>mean</th>\n",
              "      <th>max</th>\n",
              "      <th>min</th>\n",
              "      <th>mean</th>\n",
              "      <th>max</th>\n",
              "      <th>min</th>\n",
              "      <th>mean</th>\n",
              "      <th>max</th>\n",
              "    </tr>\n",
              "    <tr>\n",
              "      <th>quality</th>\n",
              "      <th></th>\n",
              "      <th></th>\n",
              "      <th></th>\n",
              "      <th></th>\n",
              "      <th></th>\n",
              "      <th></th>\n",
              "      <th></th>\n",
              "      <th></th>\n",
              "      <th></th>\n",
              "    </tr>\n",
              "  </thead>\n",
              "  <tbody>\n",
              "    <tr>\n",
              "      <th>3</th>\n",
              "      <td>1.15</td>\n",
              "      <td>5.203846</td>\n",
              "      <td>16.20</td>\n",
              "      <td>2.87</td>\n",
              "      <td>3.250385</td>\n",
              "      <td>3.63</td>\n",
              "      <td>8.0</td>\n",
              "      <td>10.251923</td>\n",
              "      <td>12.6</td>\n",
              "    </tr>\n",
              "    <tr>\n",
              "      <th>4</th>\n",
              "      <td>0.70</td>\n",
              "      <td>4.145430</td>\n",
              "      <td>15.40</td>\n",
              "      <td>2.74</td>\n",
              "      <td>3.228602</td>\n",
              "      <td>3.90</td>\n",
              "      <td>8.6</td>\n",
              "      <td>10.180376</td>\n",
              "      <td>13.5</td>\n",
              "    </tr>\n",
              "    <tr>\n",
              "      <th>5</th>\n",
              "      <td>0.60</td>\n",
              "      <td>5.792422</td>\n",
              "      <td>23.50</td>\n",
              "      <td>2.79</td>\n",
              "      <td>3.213384</td>\n",
              "      <td>3.79</td>\n",
              "      <td>8.0</td>\n",
              "      <td>9.846875</td>\n",
              "      <td>14.9</td>\n",
              "    </tr>\n",
              "    <tr>\n",
              "      <th>6</th>\n",
              "      <td>0.70</td>\n",
              "      <td>5.535141</td>\n",
              "      <td>65.80</td>\n",
              "      <td>2.74</td>\n",
              "      <td>3.219611</td>\n",
              "      <td>4.01</td>\n",
              "      <td>8.4</td>\n",
              "      <td>10.606015</td>\n",
              "      <td>14.0</td>\n",
              "    </tr>\n",
              "    <tr>\n",
              "      <th>7</th>\n",
              "      <td>0.90</td>\n",
              "      <td>4.748918</td>\n",
              "      <td>19.25</td>\n",
              "      <td>2.84</td>\n",
              "      <td>3.228333</td>\n",
              "      <td>3.82</td>\n",
              "      <td>8.6</td>\n",
              "      <td>11.383864</td>\n",
              "      <td>14.2</td>\n",
              "    </tr>\n",
              "    <tr>\n",
              "      <th>8</th>\n",
              "      <td>0.80</td>\n",
              "      <td>5.581579</td>\n",
              "      <td>14.80</td>\n",
              "      <td>2.94</td>\n",
              "      <td>3.216711</td>\n",
              "      <td>3.57</td>\n",
              "      <td>8.8</td>\n",
              "      <td>11.680921</td>\n",
              "      <td>14.0</td>\n",
              "    </tr>\n",
              "    <tr>\n",
              "      <th>9</th>\n",
              "      <td>1.60</td>\n",
              "      <td>4.120000</td>\n",
              "      <td>10.60</td>\n",
              "      <td>3.20</td>\n",
              "      <td>3.308000</td>\n",
              "      <td>3.41</td>\n",
              "      <td>10.4</td>\n",
              "      <td>12.180000</td>\n",
              "      <td>12.9</td>\n",
              "    </tr>\n",
              "  </tbody>\n",
              "</table>\n",
              "</div>"
            ],
            "text/plain": [
              "        residual sugar                     pH                 alcohol  \\\n",
              "                   min      mean    max   min      mean   max     min   \n",
              "quality                                                                 \n",
              "3                 1.15  5.203846  16.20  2.87  3.250385  3.63     8.0   \n",
              "4                 0.70  4.145430  15.40  2.74  3.228602  3.90     8.6   \n",
              "5                 0.60  5.792422  23.50  2.79  3.213384  3.79     8.0   \n",
              "6                 0.70  5.535141  65.80  2.74  3.219611  4.01     8.4   \n",
              "7                 0.90  4.748918  19.25  2.84  3.228333  3.82     8.6   \n",
              "8                 0.80  5.581579  14.80  2.94  3.216711  3.57     8.8   \n",
              "9                 1.60  4.120000  10.60  3.20  3.308000  3.41    10.4   \n",
              "\n",
              "                          \n",
              "              mean   max  \n",
              "quality                   \n",
              "3        10.251923  12.6  \n",
              "4        10.180376  13.5  \n",
              "5         9.846875  14.9  \n",
              "6        10.606015  14.0  \n",
              "7        11.383864  14.2  \n",
              "8        11.680921  14.0  \n",
              "9        12.180000  12.9  "
            ]
          },
          "metadata": {
            "tags": []
          },
          "execution_count": 16
        }
      ]
    },
    {
      "cell_type": "markdown",
      "metadata": {
        "id": "pAn-xWj94e1k"
      },
      "source": [
        "#### groupby를 통해 quality/type로 묶고 개수 세기"
      ]
    },
    {
      "cell_type": "code",
      "metadata": {
        "id": "u9sciwM04e1l",
        "colab": {
          "base_uri": "https://localhost:8080/"
        },
        "outputId": "e82008ab-fd6b-4df1-d83e-3c14d073fd8e"
      },
      "source": [
        "imp.groupby([\"quality\",\"type\"]).size()"
      ],
      "execution_count": 17,
      "outputs": [
        {
          "output_type": "execute_result",
          "data": {
            "text/plain": [
              "quality  type \n",
              "3        red         9\n",
              "         white      17\n",
              "4        red        41\n",
              "         white     145\n",
              "5        red       571\n",
              "         white    1217\n",
              "6        red       535\n",
              "         white    1881\n",
              "7        red       169\n",
              "         white     755\n",
              "8        red        13\n",
              "         white     139\n",
              "9        white       5\n",
              "dtype: int64"
            ]
          },
          "metadata": {
            "tags": []
          },
          "execution_count": 17
        }
      ]
    },
    {
      "cell_type": "markdown",
      "metadata": {
        "id": "bW4w6QwY4e1m"
      },
      "source": [
        "#### 알코올 함량을 기준으로 오름차순 정리 (20개)"
      ]
    },
    {
      "cell_type": "code",
      "metadata": {
        "id": "PTQC1M3T4e1n",
        "colab": {
          "base_uri": "https://localhost:8080/",
          "height": 669
        },
        "outputId": "cf0dd49c-8f4e-4a68-b581-581bba05b803"
      },
      "source": [
        "imp.sort_values('alcohol').head(20)"
      ],
      "execution_count": 18,
      "outputs": [
        {
          "output_type": "execute_result",
          "data": {
            "text/html": [
              "<div>\n",
              "<style scoped>\n",
              "    .dataframe tbody tr th:only-of-type {\n",
              "        vertical-align: middle;\n",
              "    }\n",
              "\n",
              "    .dataframe tbody tr th {\n",
              "        vertical-align: top;\n",
              "    }\n",
              "\n",
              "    .dataframe thead th {\n",
              "        text-align: right;\n",
              "    }\n",
              "</style>\n",
              "<table border=\"1\" class=\"dataframe\">\n",
              "  <thead>\n",
              "    <tr style=\"text-align: right;\">\n",
              "      <th></th>\n",
              "      <th>quality</th>\n",
              "      <th>residual sugar</th>\n",
              "      <th>pH</th>\n",
              "      <th>alcohol</th>\n",
              "      <th>type</th>\n",
              "    </tr>\n",
              "  </thead>\n",
              "  <tbody>\n",
              "    <tr>\n",
              "      <th>4254</th>\n",
              "      <td>3</td>\n",
              "      <td>5.10</td>\n",
              "      <td>3.42</td>\n",
              "      <td>8.0</td>\n",
              "      <td>white</td>\n",
              "    </tr>\n",
              "    <tr>\n",
              "      <th>5077</th>\n",
              "      <td>5</td>\n",
              "      <td>0.95</td>\n",
              "      <td>3.34</td>\n",
              "      <td>8.0</td>\n",
              "      <td>white</td>\n",
              "    </tr>\n",
              "    <tr>\n",
              "      <th>1768</th>\n",
              "      <td>3</td>\n",
              "      <td>2.10</td>\n",
              "      <td>3.16</td>\n",
              "      <td>8.4</td>\n",
              "      <td>red</td>\n",
              "    </tr>\n",
              "    <tr>\n",
              "      <th>4176</th>\n",
              "      <td>5</td>\n",
              "      <td>3.30</td>\n",
              "      <td>3.16</td>\n",
              "      <td>8.4</td>\n",
              "      <td>white</td>\n",
              "    </tr>\n",
              "    <tr>\n",
              "      <th>479</th>\n",
              "      <td>6</td>\n",
              "      <td>1.80</td>\n",
              "      <td>2.86</td>\n",
              "      <td>8.4</td>\n",
              "      <td>red</td>\n",
              "    </tr>\n",
              "    <tr>\n",
              "      <th>3725</th>\n",
              "      <td>5</td>\n",
              "      <td>20.15</td>\n",
              "      <td>3.01</td>\n",
              "      <td>8.5</td>\n",
              "      <td>white</td>\n",
              "    </tr>\n",
              "    <tr>\n",
              "      <th>3772</th>\n",
              "      <td>6</td>\n",
              "      <td>18.00</td>\n",
              "      <td>2.98</td>\n",
              "      <td>8.5</td>\n",
              "      <td>white</td>\n",
              "    </tr>\n",
              "    <tr>\n",
              "      <th>172</th>\n",
              "      <td>6</td>\n",
              "      <td>18.00</td>\n",
              "      <td>2.98</td>\n",
              "      <td>8.5</td>\n",
              "      <td>white</td>\n",
              "    </tr>\n",
              "    <tr>\n",
              "      <th>255</th>\n",
              "      <td>5</td>\n",
              "      <td>1.60</td>\n",
              "      <td>3.15</td>\n",
              "      <td>8.5</td>\n",
              "      <td>red</td>\n",
              "    </tr>\n",
              "    <tr>\n",
              "      <th>3062</th>\n",
              "      <td>5</td>\n",
              "      <td>9.10</td>\n",
              "      <td>3.37</td>\n",
              "      <td>8.5</td>\n",
              "      <td>white</td>\n",
              "    </tr>\n",
              "    <tr>\n",
              "      <th>2377</th>\n",
              "      <td>5</td>\n",
              "      <td>1.30</td>\n",
              "      <td>3.19</td>\n",
              "      <td>8.5</td>\n",
              "      <td>white</td>\n",
              "    </tr>\n",
              "    <tr>\n",
              "      <th>1427</th>\n",
              "      <td>6</td>\n",
              "      <td>5.90</td>\n",
              "      <td>3.47</td>\n",
              "      <td>8.5</td>\n",
              "      <td>white</td>\n",
              "    </tr>\n",
              "    <tr>\n",
              "      <th>4249</th>\n",
              "      <td>4</td>\n",
              "      <td>10.80</td>\n",
              "      <td>3.08</td>\n",
              "      <td>8.6</td>\n",
              "      <td>white</td>\n",
              "    </tr>\n",
              "    <tr>\n",
              "      <th>3155</th>\n",
              "      <td>4</td>\n",
              "      <td>4.20</td>\n",
              "      <td>3.25</td>\n",
              "      <td>8.6</td>\n",
              "      <td>white</td>\n",
              "    </tr>\n",
              "    <tr>\n",
              "      <th>4224</th>\n",
              "      <td>6</td>\n",
              "      <td>4.90</td>\n",
              "      <td>3.03</td>\n",
              "      <td>8.6</td>\n",
              "      <td>white</td>\n",
              "    </tr>\n",
              "    <tr>\n",
              "      <th>3046</th>\n",
              "      <td>5</td>\n",
              "      <td>10.20</td>\n",
              "      <td>3.06</td>\n",
              "      <td>8.6</td>\n",
              "      <td>white</td>\n",
              "    </tr>\n",
              "    <tr>\n",
              "      <th>3640</th>\n",
              "      <td>7</td>\n",
              "      <td>14.60</td>\n",
              "      <td>3.21</td>\n",
              "      <td>8.6</td>\n",
              "      <td>white</td>\n",
              "    </tr>\n",
              "    <tr>\n",
              "      <th>30</th>\n",
              "      <td>5</td>\n",
              "      <td>16.00</td>\n",
              "      <td>3.13</td>\n",
              "      <td>8.6</td>\n",
              "      <td>white</td>\n",
              "    </tr>\n",
              "    <tr>\n",
              "      <th>3656</th>\n",
              "      <td>5</td>\n",
              "      <td>23.50</td>\n",
              "      <td>2.98</td>\n",
              "      <td>8.6</td>\n",
              "      <td>white</td>\n",
              "    </tr>\n",
              "    <tr>\n",
              "      <th>3355</th>\n",
              "      <td>4</td>\n",
              "      <td>13.30</td>\n",
              "      <td>3.06</td>\n",
              "      <td>8.6</td>\n",
              "      <td>white</td>\n",
              "    </tr>\n",
              "  </tbody>\n",
              "</table>\n",
              "</div>"
            ],
            "text/plain": [
              "      quality  residual sugar    pH  alcohol   type\n",
              "4254        3            5.10  3.42      8.0  white\n",
              "5077        5            0.95  3.34      8.0  white\n",
              "1768        3            2.10  3.16      8.4    red\n",
              "4176        5            3.30  3.16      8.4  white\n",
              "479         6            1.80  2.86      8.4    red\n",
              "3725        5           20.15  3.01      8.5  white\n",
              "3772        6           18.00  2.98      8.5  white\n",
              "172         6           18.00  2.98      8.5  white\n",
              "255         5            1.60  3.15      8.5    red\n",
              "3062        5            9.10  3.37      8.5  white\n",
              "2377        5            1.30  3.19      8.5  white\n",
              "1427        6            5.90  3.47      8.5  white\n",
              "4249        4           10.80  3.08      8.6  white\n",
              "3155        4            4.20  3.25      8.6  white\n",
              "4224        6            4.90  3.03      8.6  white\n",
              "3046        5           10.20  3.06      8.6  white\n",
              "3640        7           14.60  3.21      8.6  white\n",
              "30          5           16.00  3.13      8.6  white\n",
              "3656        5           23.50  2.98      8.6  white\n",
              "3355        4           13.30  3.06      8.6  white"
            ]
          },
          "metadata": {
            "tags": []
          },
          "execution_count": 18
        }
      ]
    },
    {
      "cell_type": "markdown",
      "metadata": {
        "id": "pDGnOj__4e1o"
      },
      "source": [
        "#### 알코올 함량을 기준으로 내림차순 정리 (20개)"
      ]
    },
    {
      "cell_type": "code",
      "metadata": {
        "id": "26hzjbij4e1p",
        "colab": {
          "base_uri": "https://localhost:8080/",
          "height": 669
        },
        "outputId": "d4c6b3e9-2637-41e9-ffe8-75b8a11ea50a"
      },
      "source": [
        "imp.sort_values('alcohol',ascending=False).head(20)"
      ],
      "execution_count": 19,
      "outputs": [
        {
          "output_type": "execute_result",
          "data": {
            "text/html": [
              "<div>\n",
              "<style scoped>\n",
              "    .dataframe tbody tr th:only-of-type {\n",
              "        vertical-align: middle;\n",
              "    }\n",
              "\n",
              "    .dataframe tbody tr th {\n",
              "        vertical-align: top;\n",
              "    }\n",
              "\n",
              "    .dataframe thead th {\n",
              "        text-align: right;\n",
              "    }\n",
              "</style>\n",
              "<table border=\"1\" class=\"dataframe\">\n",
              "  <thead>\n",
              "    <tr style=\"text-align: right;\">\n",
              "      <th></th>\n",
              "      <th>quality</th>\n",
              "      <th>residual sugar</th>\n",
              "      <th>pH</th>\n",
              "      <th>alcohol</th>\n",
              "      <th>type</th>\n",
              "    </tr>\n",
              "  </thead>\n",
              "  <tbody>\n",
              "    <tr>\n",
              "      <th>2787</th>\n",
              "      <td>5</td>\n",
              "      <td>7.5</td>\n",
              "      <td>2.98</td>\n",
              "      <td>14.90</td>\n",
              "      <td>red</td>\n",
              "    </tr>\n",
              "    <tr>\n",
              "      <th>5340</th>\n",
              "      <td>7</td>\n",
              "      <td>1.6</td>\n",
              "      <td>3.12</td>\n",
              "      <td>14.20</td>\n",
              "      <td>white</td>\n",
              "    </tr>\n",
              "    <tr>\n",
              "      <th>4964</th>\n",
              "      <td>7</td>\n",
              "      <td>8.4</td>\n",
              "      <td>3.26</td>\n",
              "      <td>14.05</td>\n",
              "      <td>white</td>\n",
              "    </tr>\n",
              "    <tr>\n",
              "      <th>4059</th>\n",
              "      <td>6</td>\n",
              "      <td>1.8</td>\n",
              "      <td>3.68</td>\n",
              "      <td>14.00</td>\n",
              "      <td>red</td>\n",
              "    </tr>\n",
              "    <tr>\n",
              "      <th>3005</th>\n",
              "      <td>7</td>\n",
              "      <td>1.9</td>\n",
              "      <td>3.21</td>\n",
              "      <td>14.00</td>\n",
              "      <td>white</td>\n",
              "    </tr>\n",
              "    <tr>\n",
              "      <th>4150</th>\n",
              "      <td>7</td>\n",
              "      <td>2.6</td>\n",
              "      <td>3.39</td>\n",
              "      <td>14.00</td>\n",
              "      <td>white</td>\n",
              "    </tr>\n",
              "    <tr>\n",
              "      <th>1963</th>\n",
              "      <td>6</td>\n",
              "      <td>2.6</td>\n",
              "      <td>3.32</td>\n",
              "      <td>14.00</td>\n",
              "      <td>red</td>\n",
              "    </tr>\n",
              "    <tr>\n",
              "      <th>984</th>\n",
              "      <td>8</td>\n",
              "      <td>1.2</td>\n",
              "      <td>3.33</td>\n",
              "      <td>14.00</td>\n",
              "      <td>white</td>\n",
              "    </tr>\n",
              "    <tr>\n",
              "      <th>876</th>\n",
              "      <td>7</td>\n",
              "      <td>2.1</td>\n",
              "      <td>3.71</td>\n",
              "      <td>14.00</td>\n",
              "      <td>red</td>\n",
              "    </tr>\n",
              "    <tr>\n",
              "      <th>2142</th>\n",
              "      <td>6</td>\n",
              "      <td>1.8</td>\n",
              "      <td>3.68</td>\n",
              "      <td>14.00</td>\n",
              "      <td>red</td>\n",
              "    </tr>\n",
              "    <tr>\n",
              "      <th>3848</th>\n",
              "      <td>8</td>\n",
              "      <td>1.8</td>\n",
              "      <td>3.50</td>\n",
              "      <td>14.00</td>\n",
              "      <td>red</td>\n",
              "    </tr>\n",
              "    <tr>\n",
              "      <th>5160</th>\n",
              "      <td>6</td>\n",
              "      <td>7.5</td>\n",
              "      <td>3.38</td>\n",
              "      <td>14.00</td>\n",
              "      <td>white</td>\n",
              "    </tr>\n",
              "    <tr>\n",
              "      <th>3265</th>\n",
              "      <td>7</td>\n",
              "      <td>1.9</td>\n",
              "      <td>3.21</td>\n",
              "      <td>14.00</td>\n",
              "      <td>white</td>\n",
              "    </tr>\n",
              "    <tr>\n",
              "      <th>5448</th>\n",
              "      <td>7</td>\n",
              "      <td>1.4</td>\n",
              "      <td>3.10</td>\n",
              "      <td>13.90</td>\n",
              "      <td>white</td>\n",
              "    </tr>\n",
              "    <tr>\n",
              "      <th>4492</th>\n",
              "      <td>7</td>\n",
              "      <td>2.6</td>\n",
              "      <td>3.36</td>\n",
              "      <td>13.90</td>\n",
              "      <td>white</td>\n",
              "    </tr>\n",
              "    <tr>\n",
              "      <th>1463</th>\n",
              "      <td>7</td>\n",
              "      <td>2.4</td>\n",
              "      <td>3.41</td>\n",
              "      <td>13.90</td>\n",
              "      <td>white</td>\n",
              "    </tr>\n",
              "    <tr>\n",
              "      <th>196</th>\n",
              "      <td>6</td>\n",
              "      <td>3.4</td>\n",
              "      <td>3.53</td>\n",
              "      <td>13.80</td>\n",
              "      <td>white</td>\n",
              "    </tr>\n",
              "    <tr>\n",
              "      <th>2587</th>\n",
              "      <td>6</td>\n",
              "      <td>4.6</td>\n",
              "      <td>3.33</td>\n",
              "      <td>13.80</td>\n",
              "      <td>white</td>\n",
              "    </tr>\n",
              "    <tr>\n",
              "      <th>3342</th>\n",
              "      <td>7</td>\n",
              "      <td>4.5</td>\n",
              "      <td>3.42</td>\n",
              "      <td>13.70</td>\n",
              "      <td>white</td>\n",
              "    </tr>\n",
              "    <tr>\n",
              "      <th>5456</th>\n",
              "      <td>7</td>\n",
              "      <td>3.1</td>\n",
              "      <td>3.41</td>\n",
              "      <td>13.70</td>\n",
              "      <td>white</td>\n",
              "    </tr>\n",
              "  </tbody>\n",
              "</table>\n",
              "</div>"
            ],
            "text/plain": [
              "      quality  residual sugar    pH  alcohol   type\n",
              "2787        5             7.5  2.98    14.90    red\n",
              "5340        7             1.6  3.12    14.20  white\n",
              "4964        7             8.4  3.26    14.05  white\n",
              "4059        6             1.8  3.68    14.00    red\n",
              "3005        7             1.9  3.21    14.00  white\n",
              "4150        7             2.6  3.39    14.00  white\n",
              "1963        6             2.6  3.32    14.00    red\n",
              "984         8             1.2  3.33    14.00  white\n",
              "876         7             2.1  3.71    14.00    red\n",
              "2142        6             1.8  3.68    14.00    red\n",
              "3848        8             1.8  3.50    14.00    red\n",
              "5160        6             7.5  3.38    14.00  white\n",
              "3265        7             1.9  3.21    14.00  white\n",
              "5448        7             1.4  3.10    13.90  white\n",
              "4492        7             2.6  3.36    13.90  white\n",
              "1463        7             2.4  3.41    13.90  white\n",
              "196         6             3.4  3.53    13.80  white\n",
              "2587        6             4.6  3.33    13.80  white\n",
              "3342        7             4.5  3.42    13.70  white\n",
              "5456        7             3.1  3.41    13.70  white"
            ]
          },
          "metadata": {
            "tags": []
          },
          "execution_count": 19
        }
      ]
    },
    {
      "cell_type": "markdown",
      "metadata": {
        "id": "RhGFNSz94e1q"
      },
      "source": [
        "#### quailty가 7 이상인 데이터 추출 (20개)"
      ]
    },
    {
      "cell_type": "code",
      "metadata": {
        "id": "eq8GzpZ84e1r",
        "colab": {
          "base_uri": "https://localhost:8080/",
          "height": 669
        },
        "outputId": "3e5b7cf4-353d-44ae-c0f0-79b896636d8b"
      },
      "source": [
        "imp[imp.quality >= 7].head(20)"
      ],
      "execution_count": 20,
      "outputs": [
        {
          "output_type": "execute_result",
          "data": {
            "text/html": [
              "<div>\n",
              "<style scoped>\n",
              "    .dataframe tbody tr th:only-of-type {\n",
              "        vertical-align: middle;\n",
              "    }\n",
              "\n",
              "    .dataframe tbody tr th {\n",
              "        vertical-align: top;\n",
              "    }\n",
              "\n",
              "    .dataframe thead th {\n",
              "        text-align: right;\n",
              "    }\n",
              "</style>\n",
              "<table border=\"1\" class=\"dataframe\">\n",
              "  <thead>\n",
              "    <tr style=\"text-align: right;\">\n",
              "      <th></th>\n",
              "      <th>quality</th>\n",
              "      <th>residual sugar</th>\n",
              "      <th>pH</th>\n",
              "      <th>alcohol</th>\n",
              "      <th>type</th>\n",
              "    </tr>\n",
              "  </thead>\n",
              "  <tbody>\n",
              "    <tr>\n",
              "      <th>11</th>\n",
              "      <td>7</td>\n",
              "      <td>1.10</td>\n",
              "      <td>3.32</td>\n",
              "      <td>10.9</td>\n",
              "      <td>white</td>\n",
              "    </tr>\n",
              "    <tr>\n",
              "      <th>12</th>\n",
              "      <td>7</td>\n",
              "      <td>6.85</td>\n",
              "      <td>3.03</td>\n",
              "      <td>11.9</td>\n",
              "      <td>white</td>\n",
              "    </tr>\n",
              "    <tr>\n",
              "      <th>17</th>\n",
              "      <td>7</td>\n",
              "      <td>4.80</td>\n",
              "      <td>3.17</td>\n",
              "      <td>12.2</td>\n",
              "      <td>white</td>\n",
              "    </tr>\n",
              "    <tr>\n",
              "      <th>25</th>\n",
              "      <td>8</td>\n",
              "      <td>3.90</td>\n",
              "      <td>3.24</td>\n",
              "      <td>12.6</td>\n",
              "      <td>white</td>\n",
              "    </tr>\n",
              "    <tr>\n",
              "      <th>45</th>\n",
              "      <td>7</td>\n",
              "      <td>1.40</td>\n",
              "      <td>3.22</td>\n",
              "      <td>11.5</td>\n",
              "      <td>white</td>\n",
              "    </tr>\n",
              "    <tr>\n",
              "      <th>46</th>\n",
              "      <td>7</td>\n",
              "      <td>12.80</td>\n",
              "      <td>3.14</td>\n",
              "      <td>9.1</td>\n",
              "      <td>white</td>\n",
              "    </tr>\n",
              "    <tr>\n",
              "      <th>53</th>\n",
              "      <td>7</td>\n",
              "      <td>1.80</td>\n",
              "      <td>3.08</td>\n",
              "      <td>13.7</td>\n",
              "      <td>white</td>\n",
              "    </tr>\n",
              "    <tr>\n",
              "      <th>54</th>\n",
              "      <td>8</td>\n",
              "      <td>6.10</td>\n",
              "      <td>3.08</td>\n",
              "      <td>12.5</td>\n",
              "      <td>white</td>\n",
              "    </tr>\n",
              "    <tr>\n",
              "      <th>55</th>\n",
              "      <td>7</td>\n",
              "      <td>14.60</td>\n",
              "      <td>3.21</td>\n",
              "      <td>8.6</td>\n",
              "      <td>white</td>\n",
              "    </tr>\n",
              "    <tr>\n",
              "      <th>60</th>\n",
              "      <td>7</td>\n",
              "      <td>3.60</td>\n",
              "      <td>3.31</td>\n",
              "      <td>13.1</td>\n",
              "      <td>white</td>\n",
              "    </tr>\n",
              "    <tr>\n",
              "      <th>63</th>\n",
              "      <td>7</td>\n",
              "      <td>2.10</td>\n",
              "      <td>3.26</td>\n",
              "      <td>12.4</td>\n",
              "      <td>red</td>\n",
              "    </tr>\n",
              "    <tr>\n",
              "      <th>71</th>\n",
              "      <td>8</td>\n",
              "      <td>7.05</td>\n",
              "      <td>3.25</td>\n",
              "      <td>11.1</td>\n",
              "      <td>white</td>\n",
              "    </tr>\n",
              "    <tr>\n",
              "      <th>74</th>\n",
              "      <td>7</td>\n",
              "      <td>1.10</td>\n",
              "      <td>3.61</td>\n",
              "      <td>10.3</td>\n",
              "      <td>white</td>\n",
              "    </tr>\n",
              "    <tr>\n",
              "      <th>79</th>\n",
              "      <td>7</td>\n",
              "      <td>1.10</td>\n",
              "      <td>3.48</td>\n",
              "      <td>11.0</td>\n",
              "      <td>white</td>\n",
              "    </tr>\n",
              "    <tr>\n",
              "      <th>87</th>\n",
              "      <td>7</td>\n",
              "      <td>4.50</td>\n",
              "      <td>3.45</td>\n",
              "      <td>12.6</td>\n",
              "      <td>white</td>\n",
              "    </tr>\n",
              "    <tr>\n",
              "      <th>89</th>\n",
              "      <td>7</td>\n",
              "      <td>1.80</td>\n",
              "      <td>3.05</td>\n",
              "      <td>11.8</td>\n",
              "      <td>white</td>\n",
              "    </tr>\n",
              "    <tr>\n",
              "      <th>101</th>\n",
              "      <td>7</td>\n",
              "      <td>2.90</td>\n",
              "      <td>3.17</td>\n",
              "      <td>11.0</td>\n",
              "      <td>white</td>\n",
              "    </tr>\n",
              "    <tr>\n",
              "      <th>104</th>\n",
              "      <td>7</td>\n",
              "      <td>10.40</td>\n",
              "      <td>3.04</td>\n",
              "      <td>11.5</td>\n",
              "      <td>white</td>\n",
              "    </tr>\n",
              "    <tr>\n",
              "      <th>119</th>\n",
              "      <td>7</td>\n",
              "      <td>2.90</td>\n",
              "      <td>3.02</td>\n",
              "      <td>9.5</td>\n",
              "      <td>white</td>\n",
              "    </tr>\n",
              "    <tr>\n",
              "      <th>120</th>\n",
              "      <td>7</td>\n",
              "      <td>6.30</td>\n",
              "      <td>3.54</td>\n",
              "      <td>11.6</td>\n",
              "      <td>white</td>\n",
              "    </tr>\n",
              "  </tbody>\n",
              "</table>\n",
              "</div>"
            ],
            "text/plain": [
              "     quality  residual sugar    pH  alcohol   type\n",
              "11         7            1.10  3.32     10.9  white\n",
              "12         7            6.85  3.03     11.9  white\n",
              "17         7            4.80  3.17     12.2  white\n",
              "25         8            3.90  3.24     12.6  white\n",
              "45         7            1.40  3.22     11.5  white\n",
              "46         7           12.80  3.14      9.1  white\n",
              "53         7            1.80  3.08     13.7  white\n",
              "54         8            6.10  3.08     12.5  white\n",
              "55         7           14.60  3.21      8.6  white\n",
              "60         7            3.60  3.31     13.1  white\n",
              "63         7            2.10  3.26     12.4    red\n",
              "71         8            7.05  3.25     11.1  white\n",
              "74         7            1.10  3.61     10.3  white\n",
              "79         7            1.10  3.48     11.0  white\n",
              "87         7            4.50  3.45     12.6  white\n",
              "89         7            1.80  3.05     11.8  white\n",
              "101        7            2.90  3.17     11.0  white\n",
              "104        7           10.40  3.04     11.5  white\n",
              "119        7            2.90  3.02      9.5  white\n",
              "120        7            6.30  3.54     11.6  white"
            ]
          },
          "metadata": {
            "tags": []
          },
          "execution_count": 20
        }
      ]
    },
    {
      "cell_type": "markdown",
      "metadata": {
        "id": "a_ZjAXk-4e1s"
      },
      "source": [
        "#### alcohol을 기준으로 10도가 넘으면 'strong' 아니면 'weak'으로 표시 (lambda 쓰세요)"
      ]
    },
    {
      "cell_type": "code",
      "metadata": {
        "id": "_K4u9p3m4e1s",
        "colab": {
          "base_uri": "https://localhost:8080/",
          "height": 204
        },
        "outputId": "41bcd915-652b-44e3-b5ff-c7b2dd4b031e"
      },
      "source": [
        "imp[\"alcohol_intensity\"] = imp['alcohol'].apply(lambda x: 'strong' if x>10 else 'weak')\n",
        "imp.head()"
      ],
      "execution_count": 21,
      "outputs": [
        {
          "output_type": "execute_result",
          "data": {
            "text/html": [
              "<div>\n",
              "<style scoped>\n",
              "    .dataframe tbody tr th:only-of-type {\n",
              "        vertical-align: middle;\n",
              "    }\n",
              "\n",
              "    .dataframe tbody tr th {\n",
              "        vertical-align: top;\n",
              "    }\n",
              "\n",
              "    .dataframe thead th {\n",
              "        text-align: right;\n",
              "    }\n",
              "</style>\n",
              "<table border=\"1\" class=\"dataframe\">\n",
              "  <thead>\n",
              "    <tr style=\"text-align: right;\">\n",
              "      <th></th>\n",
              "      <th>quality</th>\n",
              "      <th>residual sugar</th>\n",
              "      <th>pH</th>\n",
              "      <th>alcohol</th>\n",
              "      <th>type</th>\n",
              "      <th>alcohol_intensity</th>\n",
              "    </tr>\n",
              "  </thead>\n",
              "  <tbody>\n",
              "    <tr>\n",
              "      <th>0</th>\n",
              "      <td>5</td>\n",
              "      <td>6.8</td>\n",
              "      <td>3.44</td>\n",
              "      <td>10.2</td>\n",
              "      <td>white</td>\n",
              "      <td>strong</td>\n",
              "    </tr>\n",
              "    <tr>\n",
              "      <th>1</th>\n",
              "      <td>5</td>\n",
              "      <td>2.4</td>\n",
              "      <td>3.19</td>\n",
              "      <td>9.5</td>\n",
              "      <td>red</td>\n",
              "      <td>weak</td>\n",
              "    </tr>\n",
              "    <tr>\n",
              "      <th>2</th>\n",
              "      <td>5</td>\n",
              "      <td>2.0</td>\n",
              "      <td>3.05</td>\n",
              "      <td>10.9</td>\n",
              "      <td>white</td>\n",
              "      <td>strong</td>\n",
              "    </tr>\n",
              "    <tr>\n",
              "      <th>3</th>\n",
              "      <td>6</td>\n",
              "      <td>6.0</td>\n",
              "      <td>3.26</td>\n",
              "      <td>10.8</td>\n",
              "      <td>white</td>\n",
              "      <td>strong</td>\n",
              "    </tr>\n",
              "    <tr>\n",
              "      <th>4</th>\n",
              "      <td>6</td>\n",
              "      <td>9.5</td>\n",
              "      <td>3.04</td>\n",
              "      <td>10.9</td>\n",
              "      <td>white</td>\n",
              "      <td>strong</td>\n",
              "    </tr>\n",
              "  </tbody>\n",
              "</table>\n",
              "</div>"
            ],
            "text/plain": [
              "   quality  residual sugar    pH  alcohol   type alcohol_intensity\n",
              "0        5             6.8  3.44     10.2  white            strong\n",
              "1        5             2.4  3.19      9.5    red              weak\n",
              "2        5             2.0  3.05     10.9  white            strong\n",
              "3        6             6.0  3.26     10.8  white            strong\n",
              "4        6             9.5  3.04     10.9  white            strong"
            ]
          },
          "metadata": {
            "tags": []
          },
          "execution_count": 21
        }
      ]
    },
    {
      "cell_type": "markdown",
      "metadata": {
        "id": "2QVnh_4F4e1t"
      },
      "source": [
        "#### merge 실습을 위해 데이터를 인위적으로 나눠볼게요"
      ]
    },
    {
      "cell_type": "code",
      "metadata": {
        "id": "XnMPmyOj4e1u",
        "colab": {
          "base_uri": "https://localhost:8080/",
          "height": 204
        },
        "outputId": "7b75c941-6c86-41b5-c673-835f7e1935d4"
      },
      "source": [
        "df1 = data.loc[:,['quality','fixed acidity','citric acid']]\n",
        "df1.head()"
      ],
      "execution_count": 22,
      "outputs": [
        {
          "output_type": "execute_result",
          "data": {
            "text/html": [
              "<div>\n",
              "<style scoped>\n",
              "    .dataframe tbody tr th:only-of-type {\n",
              "        vertical-align: middle;\n",
              "    }\n",
              "\n",
              "    .dataframe tbody tr th {\n",
              "        vertical-align: top;\n",
              "    }\n",
              "\n",
              "    .dataframe thead th {\n",
              "        text-align: right;\n",
              "    }\n",
              "</style>\n",
              "<table border=\"1\" class=\"dataframe\">\n",
              "  <thead>\n",
              "    <tr style=\"text-align: right;\">\n",
              "      <th></th>\n",
              "      <th>quality</th>\n",
              "      <th>fixed acidity</th>\n",
              "      <th>citric acid</th>\n",
              "    </tr>\n",
              "  </thead>\n",
              "  <tbody>\n",
              "    <tr>\n",
              "      <th>0</th>\n",
              "      <td>5</td>\n",
              "      <td>5.6</td>\n",
              "      <td>0.06</td>\n",
              "    </tr>\n",
              "    <tr>\n",
              "      <th>1</th>\n",
              "      <td>5</td>\n",
              "      <td>8.8</td>\n",
              "      <td>0.14</td>\n",
              "    </tr>\n",
              "    <tr>\n",
              "      <th>2</th>\n",
              "      <td>5</td>\n",
              "      <td>7.9</td>\n",
              "      <td>0.39</td>\n",
              "    </tr>\n",
              "    <tr>\n",
              "      <th>3</th>\n",
              "      <td>6</td>\n",
              "      <td>7.0</td>\n",
              "      <td>0.31</td>\n",
              "    </tr>\n",
              "    <tr>\n",
              "      <th>4</th>\n",
              "      <td>6</td>\n",
              "      <td>7.8</td>\n",
              "      <td>0.26</td>\n",
              "    </tr>\n",
              "  </tbody>\n",
              "</table>\n",
              "</div>"
            ],
            "text/plain": [
              "   quality  fixed acidity  citric acid\n",
              "0        5            5.6         0.06\n",
              "1        5            8.8         0.14\n",
              "2        5            7.9         0.39\n",
              "3        6            7.0         0.31\n",
              "4        6            7.8         0.26"
            ]
          },
          "metadata": {
            "tags": []
          },
          "execution_count": 22
        }
      ]
    },
    {
      "cell_type": "code",
      "metadata": {
        "id": "VUTHRRpc4e1w",
        "colab": {
          "base_uri": "https://localhost:8080/",
          "height": 204
        },
        "outputId": "1aa7370d-8c9a-46e6-b84f-c6e9969b7ba6"
      },
      "source": [
        "df2 = data.loc[[11,12,17,25,45],['quality', 'volatile acidity', 'chlorides', 'alcohol']]\n",
        "df2.head()"
      ],
      "execution_count": 24,
      "outputs": [
        {
          "output_type": "execute_result",
          "data": {
            "text/html": [
              "<div>\n",
              "<style scoped>\n",
              "    .dataframe tbody tr th:only-of-type {\n",
              "        vertical-align: middle;\n",
              "    }\n",
              "\n",
              "    .dataframe tbody tr th {\n",
              "        vertical-align: top;\n",
              "    }\n",
              "\n",
              "    .dataframe thead th {\n",
              "        text-align: right;\n",
              "    }\n",
              "</style>\n",
              "<table border=\"1\" class=\"dataframe\">\n",
              "  <thead>\n",
              "    <tr style=\"text-align: right;\">\n",
              "      <th></th>\n",
              "      <th>quality</th>\n",
              "      <th>volatile acidity</th>\n",
              "      <th>chlorides</th>\n",
              "      <th>alcohol</th>\n",
              "    </tr>\n",
              "  </thead>\n",
              "  <tbody>\n",
              "    <tr>\n",
              "      <th>11</th>\n",
              "      <td>7</td>\n",
              "      <td>0.160</td>\n",
              "      <td>0.057</td>\n",
              "      <td>10.9</td>\n",
              "    </tr>\n",
              "    <tr>\n",
              "      <th>12</th>\n",
              "      <td>7</td>\n",
              "      <td>0.330</td>\n",
              "      <td>0.038</td>\n",
              "      <td>11.9</td>\n",
              "    </tr>\n",
              "    <tr>\n",
              "      <th>17</th>\n",
              "      <td>7</td>\n",
              "      <td>0.280</td>\n",
              "      <td>0.029</td>\n",
              "      <td>12.2</td>\n",
              "    </tr>\n",
              "    <tr>\n",
              "      <th>25</th>\n",
              "      <td>8</td>\n",
              "      <td>0.290</td>\n",
              "      <td>0.027</td>\n",
              "      <td>12.6</td>\n",
              "    </tr>\n",
              "    <tr>\n",
              "      <th>45</th>\n",
              "      <td>7</td>\n",
              "      <td>0.305</td>\n",
              "      <td>0.047</td>\n",
              "      <td>11.5</td>\n",
              "    </tr>\n",
              "  </tbody>\n",
              "</table>\n",
              "</div>"
            ],
            "text/plain": [
              "    quality  volatile acidity  chlorides  alcohol\n",
              "11        7             0.160      0.057     10.9\n",
              "12        7             0.330      0.038     11.9\n",
              "17        7             0.280      0.029     12.2\n",
              "25        8             0.290      0.027     12.6\n",
              "45        7             0.305      0.047     11.5"
            ]
          },
          "metadata": {
            "tags": []
          },
          "execution_count": 24
        }
      ]
    },
    {
      "cell_type": "markdown",
      "metadata": {
        "id": "2d6udaGX4e1x"
      },
      "source": [
        "#### quality를 기준으로 inner join"
      ]
    },
    {
      "cell_type": "code",
      "metadata": {
        "id": "IyASKBxl4e1y",
        "scrolled": true,
        "colab": {
          "base_uri": "https://localhost:8080/",
          "height": 204
        },
        "outputId": "03186d95-9676-4ee4-ac17-be6cccabd62d"
      },
      "source": [
        "pd.merge(df1,df2,'inner','quality').head()"
      ],
      "execution_count": 27,
      "outputs": [
        {
          "output_type": "execute_result",
          "data": {
            "text/html": [
              "<div>\n",
              "<style scoped>\n",
              "    .dataframe tbody tr th:only-of-type {\n",
              "        vertical-align: middle;\n",
              "    }\n",
              "\n",
              "    .dataframe tbody tr th {\n",
              "        vertical-align: top;\n",
              "    }\n",
              "\n",
              "    .dataframe thead th {\n",
              "        text-align: right;\n",
              "    }\n",
              "</style>\n",
              "<table border=\"1\" class=\"dataframe\">\n",
              "  <thead>\n",
              "    <tr style=\"text-align: right;\">\n",
              "      <th></th>\n",
              "      <th>quality</th>\n",
              "      <th>fixed acidity</th>\n",
              "      <th>citric acid</th>\n",
              "      <th>volatile acidity</th>\n",
              "      <th>chlorides</th>\n",
              "      <th>alcohol</th>\n",
              "    </tr>\n",
              "  </thead>\n",
              "  <tbody>\n",
              "    <tr>\n",
              "      <th>0</th>\n",
              "      <td>7</td>\n",
              "      <td>6.2</td>\n",
              "      <td>0.33</td>\n",
              "      <td>0.160</td>\n",
              "      <td>0.057</td>\n",
              "      <td>10.9</td>\n",
              "    </tr>\n",
              "    <tr>\n",
              "      <th>1</th>\n",
              "      <td>7</td>\n",
              "      <td>6.2</td>\n",
              "      <td>0.33</td>\n",
              "      <td>0.330</td>\n",
              "      <td>0.038</td>\n",
              "      <td>11.9</td>\n",
              "    </tr>\n",
              "    <tr>\n",
              "      <th>2</th>\n",
              "      <td>7</td>\n",
              "      <td>6.2</td>\n",
              "      <td>0.33</td>\n",
              "      <td>0.280</td>\n",
              "      <td>0.029</td>\n",
              "      <td>12.2</td>\n",
              "    </tr>\n",
              "    <tr>\n",
              "      <th>3</th>\n",
              "      <td>7</td>\n",
              "      <td>6.2</td>\n",
              "      <td>0.33</td>\n",
              "      <td>0.305</td>\n",
              "      <td>0.047</td>\n",
              "      <td>11.5</td>\n",
              "    </tr>\n",
              "    <tr>\n",
              "      <th>4</th>\n",
              "      <td>7</td>\n",
              "      <td>7.3</td>\n",
              "      <td>0.40</td>\n",
              "      <td>0.160</td>\n",
              "      <td>0.057</td>\n",
              "      <td>10.9</td>\n",
              "    </tr>\n",
              "  </tbody>\n",
              "</table>\n",
              "</div>"
            ],
            "text/plain": [
              "   quality  fixed acidity  citric acid  volatile acidity  chlorides  alcohol\n",
              "0        7            6.2         0.33             0.160      0.057     10.9\n",
              "1        7            6.2         0.33             0.330      0.038     11.9\n",
              "2        7            6.2         0.33             0.280      0.029     12.2\n",
              "3        7            6.2         0.33             0.305      0.047     11.5\n",
              "4        7            7.3         0.40             0.160      0.057     10.9"
            ]
          },
          "metadata": {
            "tags": []
          },
          "execution_count": 27
        }
      ]
    },
    {
      "cell_type": "markdown",
      "metadata": {
        "id": "uanhvZ8g4e1z"
      },
      "source": [
        "#### quality를 기준으로 outer join"
      ]
    },
    {
      "cell_type": "code",
      "metadata": {
        "id": "jb85H15k4e10",
        "scrolled": false,
        "colab": {
          "base_uri": "https://localhost:8080/",
          "height": 204
        },
        "outputId": "e95c6e95-8f2c-4724-c726-a14874ba6cee"
      },
      "source": [
        "pd.merge(df1,df2,'outer','quality').head()"
      ],
      "execution_count": 29,
      "outputs": [
        {
          "output_type": "execute_result",
          "data": {
            "text/html": [
              "<div>\n",
              "<style scoped>\n",
              "    .dataframe tbody tr th:only-of-type {\n",
              "        vertical-align: middle;\n",
              "    }\n",
              "\n",
              "    .dataframe tbody tr th {\n",
              "        vertical-align: top;\n",
              "    }\n",
              "\n",
              "    .dataframe thead th {\n",
              "        text-align: right;\n",
              "    }\n",
              "</style>\n",
              "<table border=\"1\" class=\"dataframe\">\n",
              "  <thead>\n",
              "    <tr style=\"text-align: right;\">\n",
              "      <th></th>\n",
              "      <th>quality</th>\n",
              "      <th>fixed acidity</th>\n",
              "      <th>citric acid</th>\n",
              "      <th>volatile acidity</th>\n",
              "      <th>chlorides</th>\n",
              "      <th>alcohol</th>\n",
              "    </tr>\n",
              "  </thead>\n",
              "  <tbody>\n",
              "    <tr>\n",
              "      <th>0</th>\n",
              "      <td>5</td>\n",
              "      <td>5.6</td>\n",
              "      <td>0.06</td>\n",
              "      <td>NaN</td>\n",
              "      <td>NaN</td>\n",
              "      <td>NaN</td>\n",
              "    </tr>\n",
              "    <tr>\n",
              "      <th>1</th>\n",
              "      <td>5</td>\n",
              "      <td>8.8</td>\n",
              "      <td>0.14</td>\n",
              "      <td>NaN</td>\n",
              "      <td>NaN</td>\n",
              "      <td>NaN</td>\n",
              "    </tr>\n",
              "    <tr>\n",
              "      <th>2</th>\n",
              "      <td>5</td>\n",
              "      <td>7.9</td>\n",
              "      <td>0.39</td>\n",
              "      <td>NaN</td>\n",
              "      <td>NaN</td>\n",
              "      <td>NaN</td>\n",
              "    </tr>\n",
              "    <tr>\n",
              "      <th>3</th>\n",
              "      <td>5</td>\n",
              "      <td>6.1</td>\n",
              "      <td>0.49</td>\n",
              "      <td>NaN</td>\n",
              "      <td>NaN</td>\n",
              "      <td>NaN</td>\n",
              "    </tr>\n",
              "    <tr>\n",
              "      <th>4</th>\n",
              "      <td>5</td>\n",
              "      <td>6.8</td>\n",
              "      <td>0.31</td>\n",
              "      <td>NaN</td>\n",
              "      <td>NaN</td>\n",
              "      <td>NaN</td>\n",
              "    </tr>\n",
              "  </tbody>\n",
              "</table>\n",
              "</div>"
            ],
            "text/plain": [
              "   quality  fixed acidity  citric acid  volatile acidity  chlorides  alcohol\n",
              "0        5            5.6         0.06               NaN        NaN      NaN\n",
              "1        5            8.8         0.14               NaN        NaN      NaN\n",
              "2        5            7.9         0.39               NaN        NaN      NaN\n",
              "3        5            6.1         0.49               NaN        NaN      NaN\n",
              "4        5            6.8         0.31               NaN        NaN      NaN"
            ]
          },
          "metadata": {
            "tags": []
          },
          "execution_count": 29
        }
      ]
    },
    {
      "cell_type": "markdown",
      "metadata": {
        "id": "TQdW5j8A66au"
      },
      "source": [
        "<br>수고하셨습니다! 넘파이와 판다스는 기능이 정말 많아서 저도 아직 능숙하지 못하답니다...ㅎㅎ <br>\n",
        "하지만 우리에겐 구글이 있죠 😎 <br>\n",
        "무수한 블로그와 스택오버플로우를 뒤지다 보면 필요한 기능을 찾으실 수 있습니다<br>\n",
        "직접 데이터를 만져보면서 여러 함수들을 써보면 저절로 넘파이와 판다스가 손에 익으실 거에요! :)<br>"
      ]
    }
  ]
}